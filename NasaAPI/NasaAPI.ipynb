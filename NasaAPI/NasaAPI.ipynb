{
 "cells": [
  {
   "cell_type": "markdown",
   "metadata": {},
   "source": [
    "### Nasa API\n",
    "Este código en Java implementa la API oficial de la NASA, conocida como la NASA Astronomy Picture of the Day (APOD) API, que proporciona una imagen astronómica diaria junto con una breve descripción. El programa realiza una solicitud HTTP a la API de la NASA, obtiene los datos en formato JSON y los procesa para extraer la URL de la imagen del día y su descripción. Posteriormente, muestra esta información al usuario. Este proyecto utiliza bibliotecas como HttpURLConnection para la conexión HTTP y JSON para el análisis de la respuesta. De esta manera, el usuario puede ver la foto de cada día directamente en su consola o, dependiendo de la implementación, incluso abrir la imagen en su navegador o aplicación."
   ]
  },
  {
   "cell_type": "code",
   "execution_count": null,
   "metadata": {
    "vscode": {
     "languageId": "java"
    }
   },
   "outputs": [],
   "source": [
    "package com.example;\n",
    "\n",
    "import java.io.BufferedReader;\n",
    "import java.io.InputStreamReader;\n",
    "import java.net.HttpURLConnection;\n",
    "import java.net.URL;\n",
    "import java.util.Scanner;\n",
    "import org.json.JSONObject;\n",
    "\n",
    "public class NasaApi {\n",
    "\n",
    "    public static String getNasaData() {\n",
    "        String apiKey = \"G7RLVSb79IM9CEAVbz0ObIb5VBdUYZY7kUBmgANN\";\n",
    "        String urlString = \"https://api.nasa.gov/planetary/apod?api_key=\" + apiKey;\n",
    "        \n",
    "        HttpURLConnection connection = null;\n",
    "        BufferedReader reader = null;\n",
    "        StringBuilder responseContent = new StringBuilder();\n",
    "\n",
    "        try {\n",
    "            URL url = new URL(urlString);\n",
    "\n",
    "            connection = (HttpURLConnection) url.openConnection();\n",
    "\n",
    "            connection.setRequestMethod(\"GET\");\n",
    "\n",
    "            connection.setConnectTimeout(5000);\n",
    "            connection.setReadTimeout(5000);\n",
    "\n",
    "            int status = connection.getResponseCode();\n",
    "            if (status != 200) {\n",
    "                throw new RuntimeException(\"Error: \" + status + \" - No se pudo obtener información de NASA.\");\n",
    "            }\n",
    "\n",
    "            reader = new BufferedReader(new InputStreamReader(connection.getInputStream()));\n",
    "            String line;\n",
    "            while ((line = reader.readLine()) != null) {\n",
    "                responseContent.append(line);\n",
    "            }\n",
    "\n",
    "            JSONObject nasaJson = new JSONObject(responseContent.toString());\n",
    "            String title = nasaJson.getString(\"title\");\n",
    "            String explanation = nasaJson.getString(\"explanation\");\n",
    "            String imageUrl = nasaJson.getString(\"url\");\n",
    "            String date = nasaJson.getString(\"date\");\n",
    "            String copyright = nasaJson.getString(\"copyright\");\n",
    "\n",
    "            return \"\\n\"+\"Autor: \"+ copyright +\"\\nDate: \"+ date +\"\\n\\nTítulo: \" + title + \"\\n\\nExplicación: \" + explanation + \"\\n\\nURL de la imagen: \" + imageUrl+\"\\n\";\n",
    "        } catch (Exception e) {\n",
    "            e.printStackTrace();\n",
    "            return \"Error al obtener los datos de NASA.\";\n",
    "        } finally {\n",
    "            try {\n",
    "                if (reader != null) reader.close();\n",
    "                if (connection != null) connection.disconnect();\n",
    "            } catch (Exception ex) {\n",
    "                ex.printStackTrace();\n",
    "            }\n",
    "        }\n",
    "    }\n",
    "\n",
    "    public static void main(String[] args) {\n",
    "        System.out.println(\"---------------------NASA API--------------------\");\n",
    "        System.out.println(\"-------------------------------------------------\");\n",
    "        Scanner sc = new Scanner(System.in);\n",
    "        System.out.print(\"Desea ver la foto del dia de hoy?\\nSeleccione: si/no: \");\n",
    "        String resul = sc.nextLine().toLowerCase();\n",
    "        if (resul.equals(\"si\")){\n",
    "            String nasaInfo = getNasaData();\n",
    "            System.out.println(nasaInfo);\n",
    "        }\n",
    "        else if (resul.equals(\"no\")) {\n",
    "            System.out.println(\"Saliendo...\");\n",
    "        } else {\n",
    "            System.out.println(\"Respuesta no válida. Saliendo...\");\n",
    "        }\n",
    "        \n",
    "        sc.close();    \n",
    "    }\n",
    "}"
   ]
  },
  {
   "cell_type": "markdown",
   "metadata": {},
   "source": [
    "### Dependencias"
   ]
  },
  {
   "cell_type": "code",
   "execution_count": null,
   "metadata": {
    "vscode": {
     "languageId": "xml"
    }
   },
   "outputs": [],
   "source": [
    "<project xmlns=\"http://maven.apache.org/POM/4.0.0\"\n",
    "         xmlns:xsi=\"http://www.w3.org/2001/XMLSchema-instance\"\n",
    "         xsi:schemaLocation=\"http://maven.apache.org/POM/4.0.0 http://maven.apache.org/xsd/maven-4.0.0.xsd\">\n",
    "    <modelVersion>4.0.0</modelVersion>\n",
    "\n",
    "    <groupId>com.example</groupId>\n",
    "    <artifactId>nasa-api-client</artifactId>\n",
    "    <version>1.0-SNAPSHOT</version>\n",
    "\n",
    "    <properties>\n",
    "        <maven.compiler.source>1.8</maven.compiler.source>\n",
    "        <maven.compiler.target>1.8</maven.compiler.target>\n",
    "    </properties>\n",
    "\n",
    "    <dependencies>\n",
    "        \n",
    "        <dependency>\n",
    "            <groupId>org.json</groupId>\n",
    "            <artifactId>json</artifactId>\n",
    "            <version>20210307</version>\n",
    "        </dependency>\n",
    "    </dependencies>\n",
    "</project>\n"
   ]
  },
  {
   "cell_type": "markdown",
   "metadata": {},
   "source": [
    "--------------------- NASA API --------------------\n",
    " \n",
    "Desea ver la foto del dia de hoy?\n",
    "Seleccione: si/no: si\n",
    "\n",
    "Autor:\n",
    "Alessandra Masi\n",
    "\n",
    "Date: 2024-11-06\n",
    "\n",
    "Título: Comet Tsuchinshan-Atlas over the Dolomites\n",
    "\n",
    "Explicación: Comet Tsuchinshan-Atlas is now headed back to the outer Solar System.  The massive dusty snowball put on quite a show during its trip near the Sun, resulting in many impressive pictures from planet Earth during October.  The featured image was taken in mid-October and shows a defining visual feature of the comet -- its impressive anti-tail. The image captures Comet C/2023 A3 (Tsuchinshan?ATLAS) with impressively long dust and ion tails pointing up and away from the Sun, while the strong anti-tail -- composed of more massive dust particles -- trails the comet and points down and (nearly) toward the recently-set Sun. In the foreground is village of Tai di Cadore, Italy, with the tremendous Dolomite Mountains in the background.  Another comet, C/2024 S1 (ATLAS), once a candidate to rival Comet Tsuchinshan-Atlas in brightness, broke up last week during its close approach to our Sun.    Growing Gallery: Comet Tsuchinshan-ATLAS in 2024\n",
    "\n",
    "URL de la imagen: https://apod.nasa.gov/apod/image/2411/CometA3Dolomites_Masi_960.jpg"
   ]
  }
 ],
 "metadata": {
  "kernelspec": {
   "display_name": "Java",
   "language": "java",
   "name": "java"
  },
  "language_info": {
   "codemirror_mode": "java",
   "file_extension": ".jshell",
   "mimetype": "text/x-java-source",
   "name": "Java",
   "pygments_lexer": "java",
   "version": "17.0.12+8-LTS-286"
  }
 },
 "nbformat": 4,
 "nbformat_minor": 2
}
